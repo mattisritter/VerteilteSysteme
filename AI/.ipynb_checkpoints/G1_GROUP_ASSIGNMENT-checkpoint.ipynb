{
 "cells": [
  {
   "cell_type": "markdown",
   "id": "2b9c6b93",
   "metadata": {},
   "source": [
    "# **GROUP ASSIGNMENT - MACHINE LEARNING TECHNIQUES FOR PATTERN RECOGNITION APPLICATIONS**\n",
    "\n",
    "--------------------\n",
    "## **1. Introduction**\n",
    "--------------------\n",
    "\n",
    "--------------------\n",
    "### **1.1 Context**\n",
    "--------------------\n",
    "\n",
    "The problem statement is based on the Shinkansen Bullet Train in Japan, and passengers’ experience with that mode of travel. This machine learning exercise aims to determine the relative importance of each parameter with regards to their contribution to the passengers’ overall travel experience.\n",
    "\n",
    "-----------------------\n",
    "### **1.2 Objective** \n",
    "-----------------------\n",
    "\n",
    "The objective of this problem is to understand which parameters play an important role in swaying passenger feedback towards a positive scale. The goal of the problem is to predict whether a passenger was satisfied or not with his/her experience of travelling on Shinkansen Bullet train.\n",
    "\n",
    "------------------------------------\n",
    "### **1.3 Dataset Description**\n",
    "------------------------------------\n",
    "\n",
    "The dataset contains a random sample of individuals who traveled on this train. The dataset consists of information related to passengers and attributes related to Shinkansen train and the post-service experience. Each passenger was explicitly asked whether they were satisfied with their overall travel experience or not, and that is captured in the data of the survey report under the variable labeled ‘Overall_Experience’."
   ]
  },
  {
   "cell_type": "markdown",
   "id": "655a49fb",
   "metadata": {},
   "source": [
    "## **2. Prepare script**\n",
    "### **2.1 Load Libraries**"
   ]
  },
  {
   "cell_type": "code",
   "execution_count": 1,
   "id": "7f0179e8",
   "metadata": {},
   "outputs": [],
   "source": [
    "import pandas as pd\n"
   ]
  },
  {
   "cell_type": "markdown",
   "id": "c0485cc8",
   "metadata": {},
   "source": [
    "### **2.2 Loading the Dataset**"
   ]
  },
  {
   "cell_type": "code",
   "execution_count": 2,
   "id": "fe736e37",
   "metadata": {},
   "outputs": [],
   "source": [
    "ds = pd.read_csv(\"datashinkansen.csv\") #ds - datashinkansen"
   ]
  },
  {
   "cell_type": "markdown",
   "id": "3dde18e3",
   "metadata": {},
   "source": [
    "## **3. Understand the data** \n",
    "### **3.1 Check the head and tail of the data**"
   ]
  },
  {
   "cell_type": "code",
   "execution_count": 3,
   "id": "d035ecf8",
   "metadata": {},
   "outputs": [
    {
     "data": {
      "text/html": [
       "<div>\n",
       "<style scoped>\n",
       "    .dataframe tbody tr th:only-of-type {\n",
       "        vertical-align: middle;\n",
       "    }\n",
       "\n",
       "    .dataframe tbody tr th {\n",
       "        vertical-align: top;\n",
       "    }\n",
       "\n",
       "    .dataframe thead th {\n",
       "        text-align: right;\n",
       "    }\n",
       "</style>\n",
       "<table border=\"1\" class=\"dataframe\">\n",
       "  <thead>\n",
       "    <tr style=\"text-align: right;\">\n",
       "      <th></th>\n",
       "      <th>ID</th>\n",
       "      <th>Departure_Delay_in_Mins</th>\n",
       "      <th>Arrival_Delay_in_Mins</th>\n",
       "      <th>Gender</th>\n",
       "      <th>Seat_Comfort</th>\n",
       "      <th>Seat_Class</th>\n",
       "      <th>Arrival_Time_Convenient</th>\n",
       "      <th>Onboard_Wifi_Service</th>\n",
       "      <th>Ease_of_Online_Booking</th>\n",
       "      <th>Baggage_Handling</th>\n",
       "      <th>Legroom</th>\n",
       "      <th>CheckIn_Service</th>\n",
       "      <th>Cleanliness</th>\n",
       "      <th>Overall_Experience</th>\n",
       "    </tr>\n",
       "  </thead>\n",
       "  <tbody>\n",
       "    <tr>\n",
       "      <th>0</th>\n",
       "      <td>98800001</td>\n",
       "      <td>0</td>\n",
       "      <td>5</td>\n",
       "      <td>Female</td>\n",
       "      <td>Needs Improvement</td>\n",
       "      <td>Green Car</td>\n",
       "      <td>Excellent</td>\n",
       "      <td>Good</td>\n",
       "      <td>Needs Improvement</td>\n",
       "      <td>Needs Improvement</td>\n",
       "      <td>Acceptable</td>\n",
       "      <td>Good</td>\n",
       "      <td>Needs Improvement</td>\n",
       "      <td>0</td>\n",
       "    </tr>\n",
       "    <tr>\n",
       "      <th>1</th>\n",
       "      <td>98800002</td>\n",
       "      <td>9</td>\n",
       "      <td>0</td>\n",
       "      <td>Male</td>\n",
       "      <td>Poor</td>\n",
       "      <td>Ordinary</td>\n",
       "      <td>Excellent</td>\n",
       "      <td>Good</td>\n",
       "      <td>Good</td>\n",
       "      <td>Poor</td>\n",
       "      <td>Needs Improvement</td>\n",
       "      <td>Needs Improvement</td>\n",
       "      <td>Good</td>\n",
       "      <td>0</td>\n",
       "    </tr>\n",
       "    <tr>\n",
       "      <th>2</th>\n",
       "      <td>98800003</td>\n",
       "      <td>77</td>\n",
       "      <td>119</td>\n",
       "      <td>Female</td>\n",
       "      <td>Needs Improvement</td>\n",
       "      <td>Green Car</td>\n",
       "      <td>Needs Improvement</td>\n",
       "      <td>Needs Improvement</td>\n",
       "      <td>Excellent</td>\n",
       "      <td>Excellent</td>\n",
       "      <td>Excellent</td>\n",
       "      <td>Good</td>\n",
       "      <td>Excellent</td>\n",
       "      <td>1</td>\n",
       "    </tr>\n",
       "    <tr>\n",
       "      <th>3</th>\n",
       "      <td>98800004</td>\n",
       "      <td>13</td>\n",
       "      <td>18</td>\n",
       "      <td>Female</td>\n",
       "      <td>Acceptable</td>\n",
       "      <td>Ordinary</td>\n",
       "      <td>Needs Improvement</td>\n",
       "      <td>Acceptable</td>\n",
       "      <td>Acceptable</td>\n",
       "      <td>Acceptable</td>\n",
       "      <td>Acceptable</td>\n",
       "      <td>Good</td>\n",
       "      <td>Acceptable</td>\n",
       "      <td>0</td>\n",
       "    </tr>\n",
       "    <tr>\n",
       "      <th>4</th>\n",
       "      <td>98800005</td>\n",
       "      <td>0</td>\n",
       "      <td>0</td>\n",
       "      <td>Female</td>\n",
       "      <td>Acceptable</td>\n",
       "      <td>Ordinary</td>\n",
       "      <td>Acceptable</td>\n",
       "      <td>Needs Improvement</td>\n",
       "      <td>Good</td>\n",
       "      <td>Good</td>\n",
       "      <td>Good</td>\n",
       "      <td>Good</td>\n",
       "      <td>Good</td>\n",
       "      <td>1</td>\n",
       "    </tr>\n",
       "  </tbody>\n",
       "</table>\n",
       "</div>"
      ],
      "text/plain": [
       "         ID  Departure_Delay_in_Mins  Arrival_Delay_in_Mins  Gender  \\\n",
       "0  98800001                        0                      5  Female   \n",
       "1  98800002                        9                      0    Male   \n",
       "2  98800003                       77                    119  Female   \n",
       "3  98800004                       13                     18  Female   \n",
       "4  98800005                        0                      0  Female   \n",
       "\n",
       "        Seat_Comfort Seat_Class Arrival_Time_Convenient Onboard_Wifi_Service  \\\n",
       "0  Needs Improvement  Green Car               Excellent                 Good   \n",
       "1               Poor   Ordinary               Excellent                 Good   \n",
       "2  Needs Improvement  Green Car       Needs Improvement    Needs Improvement   \n",
       "3         Acceptable   Ordinary       Needs Improvement           Acceptable   \n",
       "4         Acceptable   Ordinary              Acceptable    Needs Improvement   \n",
       "\n",
       "  Ease_of_Online_Booking   Baggage_Handling            Legroom  \\\n",
       "0      Needs Improvement  Needs Improvement         Acceptable   \n",
       "1                   Good               Poor  Needs Improvement   \n",
       "2              Excellent          Excellent          Excellent   \n",
       "3             Acceptable         Acceptable         Acceptable   \n",
       "4                   Good               Good               Good   \n",
       "\n",
       "     CheckIn_Service        Cleanliness  Overall_Experience  \n",
       "0               Good  Needs Improvement                   0  \n",
       "1  Needs Improvement               Good                   0  \n",
       "2               Good          Excellent                   1  \n",
       "3               Good         Acceptable                   0  \n",
       "4               Good               Good                   1  "
      ]
     },
     "execution_count": 3,
     "metadata": {},
     "output_type": "execute_result"
    }
   ],
   "source": [
    "ds.head() #Show data shinkansen head"
   ]
  },
  {
   "cell_type": "code",
   "execution_count": 4,
   "id": "96a11979",
   "metadata": {
    "scrolled": true
   },
   "outputs": [
    {
     "data": {
      "text/html": [
       "<div>\n",
       "<style scoped>\n",
       "    .dataframe tbody tr th:only-of-type {\n",
       "        vertical-align: middle;\n",
       "    }\n",
       "\n",
       "    .dataframe tbody tr th {\n",
       "        vertical-align: top;\n",
       "    }\n",
       "\n",
       "    .dataframe thead th {\n",
       "        text-align: right;\n",
       "    }\n",
       "</style>\n",
       "<table border=\"1\" class=\"dataframe\">\n",
       "  <thead>\n",
       "    <tr style=\"text-align: right;\">\n",
       "      <th></th>\n",
       "      <th>ID</th>\n",
       "      <th>Departure_Delay_in_Mins</th>\n",
       "      <th>Arrival_Delay_in_Mins</th>\n",
       "      <th>Gender</th>\n",
       "      <th>Seat_Comfort</th>\n",
       "      <th>Seat_Class</th>\n",
       "      <th>Arrival_Time_Convenient</th>\n",
       "      <th>Onboard_Wifi_Service</th>\n",
       "      <th>Ease_of_Online_Booking</th>\n",
       "      <th>Baggage_Handling</th>\n",
       "      <th>Legroom</th>\n",
       "      <th>CheckIn_Service</th>\n",
       "      <th>Cleanliness</th>\n",
       "      <th>Overall_Experience</th>\n",
       "    </tr>\n",
       "  </thead>\n",
       "  <tbody>\n",
       "    <tr>\n",
       "      <th>94374</th>\n",
       "      <td>98894375</td>\n",
       "      <td>83</td>\n",
       "      <td>125</td>\n",
       "      <td>Male</td>\n",
       "      <td>Poor</td>\n",
       "      <td>Ordinary</td>\n",
       "      <td>Good</td>\n",
       "      <td>Poor</td>\n",
       "      <td>Poor</td>\n",
       "      <td>Good</td>\n",
       "      <td>Good</td>\n",
       "      <td>Needs Improvement</td>\n",
       "      <td>Good</td>\n",
       "      <td>0</td>\n",
       "    </tr>\n",
       "    <tr>\n",
       "      <th>94375</th>\n",
       "      <td>98894376</td>\n",
       "      <td>5</td>\n",
       "      <td>11</td>\n",
       "      <td>Male</td>\n",
       "      <td>Good</td>\n",
       "      <td>Ordinary</td>\n",
       "      <td>Good</td>\n",
       "      <td>Needs Improvement</td>\n",
       "      <td>Acceptable</td>\n",
       "      <td>Acceptable</td>\n",
       "      <td>Acceptable</td>\n",
       "      <td>Good</td>\n",
       "      <td>Acceptable</td>\n",
       "      <td>1</td>\n",
       "    </tr>\n",
       "    <tr>\n",
       "      <th>94376</th>\n",
       "      <td>98894377</td>\n",
       "      <td>0</td>\n",
       "      <td>0</td>\n",
       "      <td>Male</td>\n",
       "      <td>Needs Improvement</td>\n",
       "      <td>Green Car</td>\n",
       "      <td>Needs Improvement</td>\n",
       "      <td>Good</td>\n",
       "      <td>Good</td>\n",
       "      <td>Good</td>\n",
       "      <td>Good</td>\n",
       "      <td>Acceptable</td>\n",
       "      <td>Good</td>\n",
       "      <td>1</td>\n",
       "    </tr>\n",
       "    <tr>\n",
       "      <th>94377</th>\n",
       "      <td>98894378</td>\n",
       "      <td>0</td>\n",
       "      <td>0</td>\n",
       "      <td>Male</td>\n",
       "      <td>Needs Improvement</td>\n",
       "      <td>Ordinary</td>\n",
       "      <td>NaN</td>\n",
       "      <td>Good</td>\n",
       "      <td>Good</td>\n",
       "      <td>Good</td>\n",
       "      <td>Good</td>\n",
       "      <td>Good</td>\n",
       "      <td>Excellent</td>\n",
       "      <td>0</td>\n",
       "    </tr>\n",
       "    <tr>\n",
       "      <th>94378</th>\n",
       "      <td>98894379</td>\n",
       "      <td>28</td>\n",
       "      <td>28</td>\n",
       "      <td>Male</td>\n",
       "      <td>Acceptable</td>\n",
       "      <td>Ordinary</td>\n",
       "      <td>Poor</td>\n",
       "      <td>Acceptable</td>\n",
       "      <td>Acceptable</td>\n",
       "      <td>Good</td>\n",
       "      <td>Good</td>\n",
       "      <td>Poor</td>\n",
       "      <td>Good</td>\n",
       "      <td>0</td>\n",
       "    </tr>\n",
       "  </tbody>\n",
       "</table>\n",
       "</div>"
      ],
      "text/plain": [
       "             ID  Departure_Delay_in_Mins  Arrival_Delay_in_Mins Gender  \\\n",
       "94374  98894375                       83                    125   Male   \n",
       "94375  98894376                        5                     11   Male   \n",
       "94376  98894377                        0                      0   Male   \n",
       "94377  98894378                        0                      0   Male   \n",
       "94378  98894379                       28                     28   Male   \n",
       "\n",
       "            Seat_Comfort Seat_Class Arrival_Time_Convenient  \\\n",
       "94374               Poor   Ordinary                    Good   \n",
       "94375               Good   Ordinary                    Good   \n",
       "94376  Needs Improvement  Green Car       Needs Improvement   \n",
       "94377  Needs Improvement   Ordinary                     NaN   \n",
       "94378         Acceptable   Ordinary                    Poor   \n",
       "\n",
       "      Onboard_Wifi_Service Ease_of_Online_Booking Baggage_Handling  \\\n",
       "94374                 Poor                   Poor             Good   \n",
       "94375    Needs Improvement             Acceptable       Acceptable   \n",
       "94376                 Good                   Good             Good   \n",
       "94377                 Good                   Good             Good   \n",
       "94378           Acceptable             Acceptable             Good   \n",
       "\n",
       "          Legroom    CheckIn_Service Cleanliness  Overall_Experience  \n",
       "94374        Good  Needs Improvement        Good                   0  \n",
       "94375  Acceptable               Good  Acceptable                   1  \n",
       "94376        Good         Acceptable        Good                   1  \n",
       "94377        Good               Good   Excellent                   0  \n",
       "94378        Good               Poor        Good                   0  "
      ]
     },
     "execution_count": 4,
     "metadata": {},
     "output_type": "execute_result"
    }
   ],
   "source": [
    "ds.tail()#Show data shinkansen tail"
   ]
  },
  {
   "cell_type": "markdown",
   "id": "11367875",
   "metadata": {},
   "source": [
    "### **3.2 Use the info() and describe() functions for more information**"
   ]
  },
  {
   "cell_type": "code",
   "execution_count": 5,
   "id": "043b7513",
   "metadata": {},
   "outputs": [
    {
     "name": "stdout",
     "output_type": "stream",
     "text": [
      "<class 'pandas.core.frame.DataFrame'>\n",
      "RangeIndex: 94379 entries, 0 to 94378\n",
      "Data columns (total 14 columns):\n",
      " #   Column                   Non-Null Count  Dtype \n",
      "---  ------                   --------------  ----- \n",
      " 0   ID                       94379 non-null  int64 \n",
      " 1   Departure_Delay_in_Mins  94379 non-null  int64 \n",
      " 2   Arrival_Delay_in_Mins    94379 non-null  int64 \n",
      " 3   Gender                   94302 non-null  object\n",
      " 4   Seat_Comfort             94318 non-null  object\n",
      " 5   Seat_Class               94379 non-null  object\n",
      " 6   Arrival_Time_Convenient  85449 non-null  object\n",
      " 7   Onboard_Wifi_Service     94349 non-null  object\n",
      " 8   Ease_of_Online_Booking   94306 non-null  object\n",
      " 9   Baggage_Handling         94237 non-null  object\n",
      " 10  Legroom                  94289 non-null  object\n",
      " 11  CheckIn_Service          94302 non-null  object\n",
      " 12  Cleanliness              94373 non-null  object\n",
      " 13  Overall_Experience       94379 non-null  int64 \n",
      "dtypes: int64(4), object(10)\n",
      "memory usage: 10.1+ MB\n"
     ]
    }
   ],
   "source": [
    "ds.info() #Show data shinkansen information"
   ]
  },
  {
   "cell_type": "markdown",
   "id": "4fca973f",
   "metadata": {},
   "source": [
    "**Observations:**\n",
    "* There are 94379 participants and 14 columns \n",
    "* It is conspicuous that not all columns have NoN-Null count of 94379. This means that not every data column has been aswered from all participants."
   ]
  },
  {
   "cell_type": "code",
   "execution_count": 6,
   "id": "e9920e8f",
   "metadata": {},
   "outputs": [
    {
     "data": {
      "text/html": [
       "<div>\n",
       "<style scoped>\n",
       "    .dataframe tbody tr th:only-of-type {\n",
       "        vertical-align: middle;\n",
       "    }\n",
       "\n",
       "    .dataframe tbody tr th {\n",
       "        vertical-align: top;\n",
       "    }\n",
       "\n",
       "    .dataframe thead th {\n",
       "        text-align: right;\n",
       "    }\n",
       "</style>\n",
       "<table border=\"1\" class=\"dataframe\">\n",
       "  <thead>\n",
       "    <tr style=\"text-align: right;\">\n",
       "      <th></th>\n",
       "      <th>ID</th>\n",
       "      <th>Departure_Delay_in_Mins</th>\n",
       "      <th>Arrival_Delay_in_Mins</th>\n",
       "      <th>Overall_Experience</th>\n",
       "    </tr>\n",
       "  </thead>\n",
       "  <tbody>\n",
       "    <tr>\n",
       "      <th>count</th>\n",
       "      <td>9.437900e+04</td>\n",
       "      <td>94379.000000</td>\n",
       "      <td>94379.000000</td>\n",
       "      <td>94379.000000</td>\n",
       "    </tr>\n",
       "    <tr>\n",
       "      <th>mean</th>\n",
       "      <td>9.884719e+07</td>\n",
       "      <td>14.638246</td>\n",
       "      <td>14.948463</td>\n",
       "      <td>0.546658</td>\n",
       "    </tr>\n",
       "    <tr>\n",
       "      <th>std</th>\n",
       "      <td>2.724501e+04</td>\n",
       "      <td>38.128961</td>\n",
       "      <td>38.377695</td>\n",
       "      <td>0.497821</td>\n",
       "    </tr>\n",
       "    <tr>\n",
       "      <th>min</th>\n",
       "      <td>9.880000e+07</td>\n",
       "      <td>0.000000</td>\n",
       "      <td>0.000000</td>\n",
       "      <td>0.000000</td>\n",
       "    </tr>\n",
       "    <tr>\n",
       "      <th>25%</th>\n",
       "      <td>9.882360e+07</td>\n",
       "      <td>0.000000</td>\n",
       "      <td>0.000000</td>\n",
       "      <td>0.000000</td>\n",
       "    </tr>\n",
       "    <tr>\n",
       "      <th>50%</th>\n",
       "      <td>9.884719e+07</td>\n",
       "      <td>0.000000</td>\n",
       "      <td>0.000000</td>\n",
       "      <td>1.000000</td>\n",
       "    </tr>\n",
       "    <tr>\n",
       "      <th>75%</th>\n",
       "      <td>9.887078e+07</td>\n",
       "      <td>12.000000</td>\n",
       "      <td>13.000000</td>\n",
       "      <td>1.000000</td>\n",
       "    </tr>\n",
       "    <tr>\n",
       "      <th>max</th>\n",
       "      <td>9.889438e+07</td>\n",
       "      <td>1592.000000</td>\n",
       "      <td>1584.000000</td>\n",
       "      <td>1.000000</td>\n",
       "    </tr>\n",
       "  </tbody>\n",
       "</table>\n",
       "</div>"
      ],
      "text/plain": [
       "                 ID  Departure_Delay_in_Mins  Arrival_Delay_in_Mins  \\\n",
       "count  9.437900e+04             94379.000000           94379.000000   \n",
       "mean   9.884719e+07                14.638246              14.948463   \n",
       "std    2.724501e+04                38.128961              38.377695   \n",
       "min    9.880000e+07                 0.000000               0.000000   \n",
       "25%    9.882360e+07                 0.000000               0.000000   \n",
       "50%    9.884719e+07                 0.000000               0.000000   \n",
       "75%    9.887078e+07                12.000000              13.000000   \n",
       "max    9.889438e+07              1592.000000            1584.000000   \n",
       "\n",
       "       Overall_Experience  \n",
       "count        94379.000000  \n",
       "mean             0.546658  \n",
       "std              0.497821  \n",
       "min              0.000000  \n",
       "25%              0.000000  \n",
       "50%              1.000000  \n",
       "75%              1.000000  \n",
       "max              1.000000  "
      ]
     },
     "execution_count": 6,
     "metadata": {},
     "output_type": "execute_result"
    }
   ],
   "source": [
    "ds.describe() #Show data shinkansen description"
   ]
  },
  {
   "cell_type": "markdown",
   "id": "76f18cd8",
   "metadata": {},
   "source": [
    "**Observations:**\n",
    "* This figure dsows all integer values, which are only 4 values. That makes it hard to analyse.\n",
    "* The ID column is not useful.\n",
    "* For delay values the standard deviation is big. This is because most trains do not have delays, the ones that have delays then often have huge delays."
   ]
  },
  {
   "cell_type": "markdown",
   "id": "6067f56a",
   "metadata": {},
   "source": [
    "### **3.3 Look for the presence of null values in the dataset**"
   ]
  },
  {
   "cell_type": "code",
   "execution_count": 20,
   "id": "9046e6d8",
   "metadata": {},
   "outputs": [
    {
     "data": {
      "text/plain": [
       "9486"
      ]
     },
     "execution_count": 20,
     "metadata": {},
     "output_type": "execute_result"
    }
   ],
   "source": [
    "ds.isnull().sum().sum() #Shows number of null in total"
   ]
  },
  {
   "cell_type": "code",
   "execution_count": 21,
   "id": "ebc47b9d",
   "metadata": {
    "scrolled": true
   },
   "outputs": [
    {
     "data": {
      "text/plain": [
       "ID                            0\n",
       "Departure_Delay_in_Mins       0\n",
       "Arrival_Delay_in_Mins         0\n",
       "Gender                       77\n",
       "Seat_Comfort                 61\n",
       "Seat_Class                    0\n",
       "Arrival_Time_Convenient    8930\n",
       "Onboard_Wifi_Service         30\n",
       "Ease_of_Online_Booking       73\n",
       "Baggage_Handling            142\n",
       "Legroom                      90\n",
       "CheckIn_Service              77\n",
       "Cleanliness                   6\n",
       "Overall_Experience            0\n",
       "dtype: int64"
      ]
     },
     "execution_count": 21,
     "metadata": {},
     "output_type": "execute_result"
    }
   ],
   "source": [
    "ds.isnull().sum() #Shows number of null in each column"
   ]
  },
  {
   "cell_type": "markdown",
   "id": "9cd32fcf",
   "metadata": {},
   "source": [
    "**Observations:**\n",
    "* There is a total number of 9486 null values\n",
    "* Columns that do not have null values are `ID`, `Departure_Delay_in_Mins`, `Arrival_Delay_in_Mins`, `Seat_Class` and `Overall_Experience` "
   ]
  },
  {
   "cell_type": "markdown",
   "id": "d72fabf8",
   "metadata": {},
   "source": [
    "## **4. Preprocessing** \n",
    "### **4.1 Remove the unsignificant parameters (ex: ID)**"
   ]
  },
  {
   "cell_type": "code",
   "execution_count": null,
   "id": "f9862438",
   "metadata": {},
   "outputs": [],
   "source": []
  },
  {
   "cell_type": "markdown",
   "id": "0639edda",
   "metadata": {},
   "source": [
    "### **4.2 Encode the categorical object variables in both the train & test set**"
   ]
  },
  {
   "cell_type": "code",
   "execution_count": null,
   "id": "941b03f9",
   "metadata": {},
   "outputs": [],
   "source": []
  },
  {
   "cell_type": "markdown",
   "id": "54586cc5",
   "metadata": {},
   "source": [
    "### **4.3 Separate the dataset into Training dan Testing data**"
   ]
  },
  {
   "cell_type": "code",
   "execution_count": null,
   "id": "42562e9f",
   "metadata": {},
   "outputs": [],
   "source": []
  },
  {
   "cell_type": "code",
   "execution_count": null,
   "id": "5be2837e",
   "metadata": {},
   "outputs": [],
   "source": []
  }
 ],
 "metadata": {
  "kernelspec": {
   "display_name": "Python 3 (ipykernel)",
   "language": "python",
   "name": "python3"
  },
  "language_info": {
   "codemirror_mode": {
    "name": "ipython",
    "version": 3
   },
   "file_extension": ".py",
   "mimetype": "text/x-python",
   "name": "python",
   "nbconvert_exporter": "python",
   "pygments_lexer": "ipython3",
   "version": "3.9.13"
  }
 },
 "nbformat": 4,
 "nbformat_minor": 5
}
